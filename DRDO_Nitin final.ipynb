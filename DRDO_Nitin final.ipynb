{
  "nbformat": 4,
  "nbformat_minor": 0,
  "metadata": {
    "colab": {
      "name": "DRDO Nitin.ipynb",
      "provenance": []
    },
    "kernelspec": {
      "name": "python3",
      "display_name": "Python 3"
    }
  },
  "cells": [
    {
      "cell_type": "code",
      "metadata": {
        "id": "xM1N0rEYGLRZ"
      },
      "source": [
        "import os\n",
        "import tweepy as tw\n",
        "import pandas as pd"
      ],
      "execution_count": 1,
      "outputs": []
    },
    {
      "cell_type": "code",
      "metadata": {
        "id": "VNf8aDr4GdfD",
        "outputId": "965e7c72-7edf-4906-8635-08ab42228f1b",
        "colab": {
          "base_uri": "https://localhost:8080/",
          "height": 33
        }
      },
      "source": [
        "consumer_key= '######'\n",
        "consumer_secret= '#######'\n",
        "access_token= '$$$$$$#$#'\n",
        "access_token_secret= '^%$####'\n",
        "print('h')"
      ],
      "execution_count": 2,
      "outputs": [
        {
          "output_type": "stream",
          "text": [
            "h\n"
          ],
          "name": "stdout"
        }
      ]
    },
    {
      "cell_type": "code",
      "metadata": {
        "id": "PR-A6I5mHqio"
      },
      "source": [
        "auth = tw.OAuthHandler(consumer_key, consumer_secret)\n",
        "auth.set_access_token(access_token, access_token_secret)\n",
        "api = tw.API(auth, wait_on_rate_limit=True)"
      ],
      "execution_count": 3,
      "outputs": []
    },
    {
      "cell_type": "code",
      "metadata": {
        "id": "hWzHxkauHu45"
      },
      "source": [
        "search_words = \"#DRDO\"\n",
        "date_since = \"2020-01-01\""
      ],
      "execution_count": 4,
      "outputs": []
    },
    {
      "cell_type": "code",
      "metadata": {
        "id": "KtKn6wmSH1Le"
      },
      "source": [
        "tweets = tw.Cursor(api.search,\n",
        "              q=search_words,\n",
        "              lang=\"en\",\n",
        "              since=date_since).items(5)"
      ],
      "execution_count": 5,
      "outputs": []
    },
    {
      "cell_type": "code",
      "metadata": {
        "id": "dtm4xoWIH5Sw",
        "outputId": "063afaa4-d6fa-43f0-d82f-107b0d5cdea1",
        "colab": {
          "base_uri": "https://localhost:8080/",
          "height": 33
        }
      },
      "source": [
        "tweets"
      ],
      "execution_count": 6,
      "outputs": [
        {
          "output_type": "execute_result",
          "data": {
            "text/plain": [
              "<tweepy.cursor.ItemIterator at 0x7f62271f1978>"
            ]
          },
          "metadata": {
            "tags": []
          },
          "execution_count": 6
        }
      ]
    },
    {
      "cell_type": "code",
      "metadata": {
        "id": "4nbAt3iAH9N-",
        "outputId": "711128b2-87fb-4df7-d545-d9ac7bc132aa",
        "colab": {
          "base_uri": "https://localhost:8080/",
          "height": 168
        }
      },
      "source": [
        "for tweet in tweets:\n",
        "    print(tweet.text)"
      ],
      "execution_count": 7,
      "outputs": [
        {
          "output_type": "stream",
          "text": [
            "#India deploys indigenous missiles to counter PLA threat\n",
            "\n",
            "From #BrahMos and #Nirbhay to #Shaurya and #Akash, here's… https://t.co/S4qgw1f3Rd\n",
            "RT @achyuta_samanta: Congratulations to @DRDO_India for successfully conducting test firing of Laser Guided Anti Tank Guided Missile from M…\n",
            "RT @Naveen_Odisha: Congratulate @DRDO_India on the successful test firing of extended range #BrahMos supersonic cruise missile. The missile…\n",
            "#ShauryaMissile on fire🔥💥\n",
            "\n",
            "More power to #DRDO\n",
            "RT @Naveen_Odisha: Congratulate @DRDO_India on the successful test firing of new version of Shaurya missile, off the coast of #Odisha. The…\n"
          ],
          "name": "stdout"
        }
      ]
    },
    {
      "cell_type": "code",
      "metadata": {
        "id": "63Wl5ZCjIBqv",
        "outputId": "f23af507-c952-426f-8eb7-04b09580ea1a",
        "colab": {
          "base_uri": "https://localhost:8080/",
          "height": 35
        }
      },
      "source": [
        "new_search = search_words + \" -filter:retweets\"\n",
        "new_search"
      ],
      "execution_count": 8,
      "outputs": [
        {
          "output_type": "execute_result",
          "data": {
            "application/vnd.google.colaboratory.intrinsic+json": {
              "type": "string"
            },
            "text/plain": [
              "'#DRDO -filter:retweets'"
            ]
          },
          "metadata": {
            "tags": []
          },
          "execution_count": 8
        }
      ]
    },
    {
      "cell_type": "code",
      "metadata": {
        "id": "FcQRxLRqIGES",
        "outputId": "fad7f3b0-f888-4266-f79c-9b2e16b88ad2",
        "colab": {
          "base_uri": "https://localhost:8080/",
          "height": 100
        }
      },
      "source": [
        "tweets = tw.Cursor(api.search,\n",
        "                       q=new_search,\n",
        "                       lang=\"en\",\n",
        "                       since=date_since).items(5)\n",
        "\n",
        "[tweet.text for tweet in tweets]"
      ],
      "execution_count": 9,
      "outputs": [
        {
          "output_type": "execute_result",
          "data": {
            "text/plain": [
              "[\"#India deploys indigenous missiles to counter PLA threat\\n\\nFrom #BrahMos and #Nirbhay to #Shaurya and #Akash, here's… https://t.co/S4qgw1f3Rd\",\n",
              " '#ShauryaMissile on fire🔥💥\\n\\nMore power to #DRDO',\n",
              " 'EEL will make 10 lakh grenades for the Indian defense forces. The new grenade has been designed and developed by… https://t.co/Fyow1OIisW',\n",
              " 'This test has been done by the #DRDO Defence Research and Development Organisation (DRDO) from \\xa0Integrated Test Ran… https://t.co/VzbsEZYTON',\n",
              " 'DRDO Jobs: Recruitment of B.E. / https://t.co/B8gfMDJXMY / M.E. / https://t.co/4aiegtOaTF / https://t.co/SrF83cZTuW… https://t.co/CtiSGkoFZ0']"
            ]
          },
          "metadata": {
            "tags": []
          },
          "execution_count": 9
        }
      ]
    },
    {
      "cell_type": "code",
      "metadata": {
        "id": "A1gwMt_1IMmK",
        "outputId": "c97e071c-89b2-4a9e-b97b-427fe8a9579d",
        "colab": {
          "base_uri": "https://localhost:8080/",
          "height": 100
        }
      },
      "source": [
        "tweets = tw.Cursor(api.search, \n",
        "                           q=new_search,\n",
        "                           lang=\"en\",\n",
        "                           since=date_since).items(5)\n",
        "\n",
        "users_locs = [[tweet.user.screen_name, tweet.user.location] for tweet in tweets]\n",
        "users_locs"
      ],
      "execution_count": 10,
      "outputs": [
        {
          "output_type": "execute_result",
          "data": {
            "text/plain": [
              "[['NEWS9TWEETS', 'BENGALURU'],\n",
              " ['coded_10', 'Bhubaneswar ,India'],\n",
              " ['modified_hindu', 'West Bengal, India'],\n",
              " ['Shomes_quest', 'Bharatvarsh'],\n",
              " ['GovtJobOfficial', '']]"
            ]
          },
          "metadata": {
            "tags": []
          },
          "execution_count": 10
        }
      ]
    },
    {
      "cell_type": "code",
      "metadata": {
        "id": "pM-ZHIHxIQVP",
        "outputId": "42208ac6-d954-47ae-f165-29a55778dfc8",
        "colab": {
          "base_uri": "https://localhost:8080/",
          "height": 200
        }
      },
      "source": [
        "tweet_text = pd.DataFrame(data=users_locs, \n",
        "                    columns=['user', \"location\"])\n",
        "tweet_text"
      ],
      "execution_count": 11,
      "outputs": [
        {
          "output_type": "execute_result",
          "data": {
            "text/html": [
              "<div>\n",
              "<style scoped>\n",
              "    .dataframe tbody tr th:only-of-type {\n",
              "        vertical-align: middle;\n",
              "    }\n",
              "\n",
              "    .dataframe tbody tr th {\n",
              "        vertical-align: top;\n",
              "    }\n",
              "\n",
              "    .dataframe thead th {\n",
              "        text-align: right;\n",
              "    }\n",
              "</style>\n",
              "<table border=\"1\" class=\"dataframe\">\n",
              "  <thead>\n",
              "    <tr style=\"text-align: right;\">\n",
              "      <th></th>\n",
              "      <th>user</th>\n",
              "      <th>location</th>\n",
              "    </tr>\n",
              "  </thead>\n",
              "  <tbody>\n",
              "    <tr>\n",
              "      <th>0</th>\n",
              "      <td>NEWS9TWEETS</td>\n",
              "      <td>BENGALURU</td>\n",
              "    </tr>\n",
              "    <tr>\n",
              "      <th>1</th>\n",
              "      <td>coded_10</td>\n",
              "      <td>Bhubaneswar ,India</td>\n",
              "    </tr>\n",
              "    <tr>\n",
              "      <th>2</th>\n",
              "      <td>modified_hindu</td>\n",
              "      <td>West Bengal, India</td>\n",
              "    </tr>\n",
              "    <tr>\n",
              "      <th>3</th>\n",
              "      <td>Shomes_quest</td>\n",
              "      <td>Bharatvarsh</td>\n",
              "    </tr>\n",
              "    <tr>\n",
              "      <th>4</th>\n",
              "      <td>GovtJobOfficial</td>\n",
              "      <td></td>\n",
              "    </tr>\n",
              "  </tbody>\n",
              "</table>\n",
              "</div>"
            ],
            "text/plain": [
              "              user            location\n",
              "0      NEWS9TWEETS           BENGALURU\n",
              "1         coded_10  Bhubaneswar ,India\n",
              "2   modified_hindu  West Bengal, India\n",
              "3     Shomes_quest         Bharatvarsh\n",
              "4  GovtJobOfficial                    "
            ]
          },
          "metadata": {
            "tags": []
          },
          "execution_count": 11
        }
      ]
    },
    {
      "cell_type": "code",
      "metadata": {
        "id": "w3MTleTnIXg-"
      },
      "source": [
        "import os\n",
        "import pandas as pd\n",
        "import matplotlib.pyplot as plt\n",
        "import seaborn as sns\n",
        "import itertools\n",
        "import collections\n",
        "\n",
        "import tweepy as tw\n",
        "import nltk\n",
        "from nltk.corpus import stopwords\n",
        "import re\n",
        "import networkx\n",
        "\n",
        "import warnings\n",
        "warnings.filterwarnings(\"ignore\")\n",
        "\n",
        "sns.set(font_scale=1.5)\n",
        "sns.set_style(\"whitegrid\")"
      ],
      "execution_count": 12,
      "outputs": []
    },
    {
      "cell_type": "code",
      "metadata": {
        "id": "wHLc8aGfIba6",
        "outputId": "283e0773-3ee0-4af9-c638-214bea8d262d",
        "colab": {
          "base_uri": "https://localhost:8080/",
          "height": 100
        }
      },
      "source": [
        "search_term = \"#PLA+#BrahMos -filter:retweets\"\n",
        "\n",
        "tweets = tw.Cursor(api.search,\n",
        "                   q=search_term,\n",
        "                   lang=\"en\",\n",
        "                   since='2020-01-01').items(100)\n",
        "\n",
        "all_tweets = [tweet.text for tweet in tweets]\n",
        "\n",
        "all_tweets[:5]"
      ],
      "execution_count": 13,
      "outputs": [
        {
          "output_type": "execute_result",
          "data": {
            "text/plain": [
              "[\"#India deploys indigenous missiles to counter PLA threat\\n\\nFrom #BrahMos and #Nirbhay to #Shaurya and #Akash, here's… https://t.co/S4qgw1f3Rd\",\n",
              " \"#India 🇮🇳 successfully test fires Extended Range version of #Brahmos , world's fastest supersonic cruise missile \\nI… https://t.co/oHn1U2EusZ\",\n",
              " 'HUGE: #BrahMos, #Nirbhay And #Akash Missiles Deployed by #India to Counter #Chinese Aggression in #Ladakh. 1st admi… https://t.co/cLqepQpwlj',\n",
              " '\"The #Brahmos and the #Nirbhay cruise missiles along with #Akash surface-to-air missile are at the core of #India’s… https://t.co/GuE9gLExGg',\n",
              " 'With the deployment of #Brahmos, #Akash and #Nirbhay although precautionary and mirroring the #PLA make me wonder i… https://t.co/qMlwYSl7rK']"
            ]
          },
          "metadata": {
            "tags": []
          },
          "execution_count": 13
        }
      ]
    },
    {
      "cell_type": "code",
      "metadata": {
        "id": "SmJ7rnglI1cw"
      },
      "source": [
        "def remove_url(txt):\n",
        "    \"\"\"Replace URLs found in a text string with nothing \n",
        "    (i.e. it will remove the URL from the string).\n",
        "\n",
        "    Parameters\n",
        "    ----------\n",
        "    txt : string\n",
        "        A text string that you want to parse and remove urls.\n",
        "\n",
        "    Returns\n",
        "    -------\n",
        "    The same txt string with url's removed.\n",
        "    \"\"\"\n",
        "\n",
        "    return \" \".join(re.sub(\"([^0-9A-Za-z \\t])|(\\w+:\\/\\/\\S+)\", \"\", txt).split())"
      ],
      "execution_count": 14,
      "outputs": []
    },
    {
      "cell_type": "code",
      "metadata": {
        "id": "MxUVcKr7I5A4",
        "outputId": "2aff0f2c-9e88-4462-bc91-104baacc6dcc",
        "colab": {
          "base_uri": "https://localhost:8080/",
          "height": 100
        }
      },
      "source": [
        "all_tweets_no_urls = [remove_url(tweet) for tweet in all_tweets]\n",
        "all_tweets_no_urls[:5]"
      ],
      "execution_count": 15,
      "outputs": [
        {
          "output_type": "execute_result",
          "data": {
            "text/plain": [
              "['India deploys indigenous missiles to counter PLA threatFrom BrahMos and Nirbhay to Shaurya and Akash heres',\n",
              " 'India successfully test fires Extended Range version of Brahmos worlds fastest supersonic cruise missile I',\n",
              " 'HUGE BrahMos Nirbhay And Akash Missiles Deployed by India to Counter Chinese Aggression in Ladakh 1st admi',\n",
              " 'The Brahmos and the Nirbhay cruise missiles along with Akash surfacetoair missile are at the core of Indias',\n",
              " 'With the deployment of Brahmos Akash and Nirbhay although precautionary and mirroring the PLA make me wonder i']"
            ]
          },
          "metadata": {
            "tags": []
          },
          "execution_count": 15
        }
      ]
    },
    {
      "cell_type": "code",
      "metadata": {
        "id": "p4pNhlBlI7uO",
        "outputId": "f3acd083-d832-47ae-dd1b-d4992f359881",
        "colab": {
          "base_uri": "https://localhost:8080/",
          "height": 536
        }
      },
      "source": [
        "words_in_tweet = [tweet.lower().split() for tweet in all_tweets_no_urls]\n",
        "words_in_tweet[:2]"
      ],
      "execution_count": 16,
      "outputs": [
        {
          "output_type": "execute_result",
          "data": {
            "text/plain": [
              "[['india',\n",
              "  'deploys',\n",
              "  'indigenous',\n",
              "  'missiles',\n",
              "  'to',\n",
              "  'counter',\n",
              "  'pla',\n",
              "  'threatfrom',\n",
              "  'brahmos',\n",
              "  'and',\n",
              "  'nirbhay',\n",
              "  'to',\n",
              "  'shaurya',\n",
              "  'and',\n",
              "  'akash',\n",
              "  'heres'],\n",
              " ['india',\n",
              "  'successfully',\n",
              "  'test',\n",
              "  'fires',\n",
              "  'extended',\n",
              "  'range',\n",
              "  'version',\n",
              "  'of',\n",
              "  'brahmos',\n",
              "  'worlds',\n",
              "  'fastest',\n",
              "  'supersonic',\n",
              "  'cruise',\n",
              "  'missile',\n",
              "  'i']]"
            ]
          },
          "metadata": {
            "tags": []
          },
          "execution_count": 16
        }
      ]
    },
    {
      "cell_type": "code",
      "metadata": {
        "id": "zbYwhnq8I_5j",
        "outputId": "1768f417-5e4c-447a-c232-e12cede6bd77",
        "colab": {
          "base_uri": "https://localhost:8080/",
          "height": 268
        }
      },
      "source": [
        "all_words_no_urls = list(itertools.chain(*words_in_tweet))\n",
        "counts_no_urls = collections.Counter(all_words_no_urls)\n",
        "\n",
        "counts_no_urls.most_common(15)"
      ],
      "execution_count": 17,
      "outputs": [
        {
          "output_type": "execute_result",
          "data": {
            "text/plain": [
              "[('brahmos', 8),\n",
              " ('and', 8),\n",
              " ('india', 6),\n",
              " ('to', 6),\n",
              " ('nirbhay', 6),\n",
              " ('akash', 6),\n",
              " ('missiles', 5),\n",
              " ('the', 5),\n",
              " ('counter', 4),\n",
              " ('of', 3),\n",
              " ('chinese', 3),\n",
              " ('pla', 2),\n",
              " ('cruise', 2),\n",
              " ('missile', 2),\n",
              " ('i', 2)]"
            ]
          },
          "metadata": {
            "tags": []
          },
          "execution_count": 17
        }
      ]
    },
    {
      "cell_type": "code",
      "metadata": {
        "id": "LjSsH3zTJFtD",
        "outputId": "d0f986da-c1f1-46e1-a470-68025e1f90af",
        "colab": {
          "base_uri": "https://localhost:8080/",
          "height": 200
        }
      },
      "source": [
        "clean_tweets_no_urls = pd.DataFrame(counts_no_urls.most_common(15),\n",
        "                             columns=['words', 'count'])\n",
        "\n",
        "clean_tweets_no_urls.head()"
      ],
      "execution_count": 18,
      "outputs": [
        {
          "output_type": "execute_result",
          "data": {
            "text/html": [
              "<div>\n",
              "<style scoped>\n",
              "    .dataframe tbody tr th:only-of-type {\n",
              "        vertical-align: middle;\n",
              "    }\n",
              "\n",
              "    .dataframe tbody tr th {\n",
              "        vertical-align: top;\n",
              "    }\n",
              "\n",
              "    .dataframe thead th {\n",
              "        text-align: right;\n",
              "    }\n",
              "</style>\n",
              "<table border=\"1\" class=\"dataframe\">\n",
              "  <thead>\n",
              "    <tr style=\"text-align: right;\">\n",
              "      <th></th>\n",
              "      <th>words</th>\n",
              "      <th>count</th>\n",
              "    </tr>\n",
              "  </thead>\n",
              "  <tbody>\n",
              "    <tr>\n",
              "      <th>0</th>\n",
              "      <td>brahmos</td>\n",
              "      <td>8</td>\n",
              "    </tr>\n",
              "    <tr>\n",
              "      <th>1</th>\n",
              "      <td>and</td>\n",
              "      <td>8</td>\n",
              "    </tr>\n",
              "    <tr>\n",
              "      <th>2</th>\n",
              "      <td>india</td>\n",
              "      <td>6</td>\n",
              "    </tr>\n",
              "    <tr>\n",
              "      <th>3</th>\n",
              "      <td>to</td>\n",
              "      <td>6</td>\n",
              "    </tr>\n",
              "    <tr>\n",
              "      <th>4</th>\n",
              "      <td>nirbhay</td>\n",
              "      <td>6</td>\n",
              "    </tr>\n",
              "  </tbody>\n",
              "</table>\n",
              "</div>"
            ],
            "text/plain": [
              "     words  count\n",
              "0  brahmos      8\n",
              "1      and      8\n",
              "2    india      6\n",
              "3       to      6\n",
              "4  nirbhay      6"
            ]
          },
          "metadata": {
            "tags": []
          },
          "execution_count": 18
        }
      ]
    },
    {
      "cell_type": "code",
      "metadata": {
        "id": "9gSzXpDjJIVf",
        "outputId": "abe13916-9298-4bc8-ac4f-70b5dd188f2a",
        "colab": {
          "base_uri": "https://localhost:8080/",
          "height": 513
        }
      },
      "source": [
        "fig, ax = plt.subplots(figsize=(8, 8))\n",
        "\n",
        "# Plot horizontal bar graph\n",
        "clean_tweets_no_urls.sort_values(by='count').plot.barh(x='words',\n",
        "                      y='count',\n",
        "                      ax=ax,\n",
        "                      color=\"Black\")\n",
        "\n",
        "ax.set_title(\"Common Words Found in Tweets (Including All Words)\")\n",
        "\n",
        "plt.show()"
      ],
      "execution_count": 19,
      "outputs": [
        {
          "output_type": "display_data",
          "data": {
            "image/png": "[encoded data removed]",
            "text/plain": [
              "<Figure size 576x576 with 1 Axes>"
            ]
          },
          "metadata": {
            "tags": []
          }
        }
      ]
    },
    {
      "cell_type": "code",
      "metadata": {
        "id": "UWe6ieIaJUjj",
        "outputId": "3e80411b-078e-414a-836c-9f58a03cdc6e",
        "colab": {
          "base_uri": "https://localhost:8080/",
          "height": 546
        }
      },
      "source": [
        "nltk.download('stopwords')\n",
        "stop_words = set(stopwords.words('english'))\n",
        "tweets_nsw = [[word for word in tweet_words if not word in stop_words]\n",
        "              for tweet_words in words_in_tweet]\n",
        "\n",
        "tweets_nsw[0]\n",
        "\n",
        "all_words_nsw = list(itertools.chain(*tweets_nsw))\n",
        "\n",
        "counts_nsw = collections.Counter(all_words_nsw)\n",
        "\n",
        "counts_nsw.most_common(15)\n",
        "\n",
        "clean_tweets_nsw = pd.DataFrame(counts_nsw.most_common(15),\n",
        "                             columns=['words', 'count'])\n",
        "\n",
        "fig, ax = plt.subplots(figsize=(8, 8))\n",
        "\n",
        "# Plot horizontal bar graph\n",
        "clean_tweets_nsw.sort_values(by='count').plot.barh(x='words',\n",
        "                      y='count',\n",
        "                      ax=ax,\n",
        "                      color=\"Black\")\n",
        "\n",
        "ax.set_title(\"Common Words Found in Tweets (Without Stop Words)\")\n",
        "\n",
        "plt.show()"
      ],
      "execution_count": 22,
      "outputs": [
        {
          "output_type": "stream",
          "text": [
            "[nltk_data] Downloading package stopwords to /root/nltk_data...\n",
            "[nltk_data]   Package stopwords is already up-to-date!\n"
          ],
          "name": "stdout"
        },
        {
          "output_type": "display_data",
          "data": {
            "image/png": "[encoded data removed]",
            "text/plain": [
              "<Figure size 576x576 with 1 Axes>"
            ]
          },
          "metadata": {
            "tags": []
          }
        }
      ]
    },
    {
      "cell_type": "code",
      "metadata": {
        "id": "eWDR_oXIJy5b",
        "outputId": "0615601d-b1a6-444f-c85d-e6fcb28a832a",
        "colab": {
          "base_uri": "https://localhost:8080/",
          "height": 100
        }
      },
      "source": [
        "from textblob import TextBlob\n",
        "\n",
        "search_term = \"#BrahMos -filter:retweets\"\n",
        "\n",
        "tweets = tw.Cursor(api.search,\n",
        "                   q=search_term,\n",
        "                   lang=\"en\",\n",
        "                   since='2018-09-01').items(1500)\n",
        "\n",
        "# Remove URLs and create textblob object for each tweet\n",
        "all_tweets_no_urls = [TextBlob(remove_url(tweet.text)) for tweet in tweets]\n",
        "\n",
        "all_tweets_no_urls[:5]"
      ],
      "execution_count": 23,
      "outputs": [
        {
          "output_type": "execute_result",
          "data": {
            "text/plain": [
              "[TextBlob(\"India deploys indigenous missiles to counter PLA threatFrom BrahMos and Nirbhay to Shaurya and Akash heres\"),\n",
              " TextBlob(\"Big boost to PM Narendra Modis idea of AatmaNirbharBharatOur pride DRDO has successfully test fired indigenou\"),\n",
              " TextBlob(\"All this week we shall be bringing to you some shining stars of 20 years of IndiaRussia strategic partnership We\"),\n",
              " TextBlob(\"Congratulations to Team DRDO and Team Brahmos for the successful flight testing of BRAHMOS Supersonic Cruise Missi\"),\n",
              " TextBlob(\"liakhanuk IFazilaBaloch Thank u for correction Tweet dont decide capability of Trishul Agni Prithvi Shaurya\")]"
            ]
          },
          "metadata": {
            "tags": []
          },
          "execution_count": 23
        }
      ]
    },
    {
      "cell_type": "code",
      "metadata": {
        "id": "eiDTX6mkKFML",
        "outputId": "6b8eac86-d723-47d4-c523-fafc4f3acd3b",
        "colab": {
          "base_uri": "https://localhost:8080/",
          "height": 200
        }
      },
      "source": [
        "# Calculate polarity of tweets\n",
        "DRDO_sent_values = [[tweet.sentiment.polarity, str(tweet)] for tweet in all_tweets_no_urls]\n",
        "\n",
        "# Create dataframe containing polarity values and tweet text\n",
        "DRDO_sent_df = pd.DataFrame(DRDO_sent_values, columns=[\"polarity\", \"tweet\"])\n",
        "DRDO_sent_df = DRDO_sent_df[DRDO_sent_df.polarity != 0]\n",
        "\n",
        "DRDO_sent_df.head()"
      ],
      "execution_count": 24,
      "outputs": [
        {
          "output_type": "execute_result",
          "data": {
            "text/html": [
              "<div>\n",
              "<style scoped>\n",
              "    .dataframe tbody tr th:only-of-type {\n",
              "        vertical-align: middle;\n",
              "    }\n",
              "\n",
              "    .dataframe tbody tr th {\n",
              "        vertical-align: top;\n",
              "    }\n",
              "\n",
              "    .dataframe thead th {\n",
              "        text-align: right;\n",
              "    }\n",
              "</style>\n",
              "<table border=\"1\" class=\"dataframe\">\n",
              "  <thead>\n",
              "    <tr style=\"text-align: right;\">\n",
              "      <th></th>\n",
              "      <th>polarity</th>\n",
              "      <th>tweet</th>\n",
              "    </tr>\n",
              "  </thead>\n",
              "  <tbody>\n",
              "    <tr>\n",
              "      <th>1</th>\n",
              "      <td>0.375000</td>\n",
              "      <td>Big boost to PM Narendra Modis idea of AatmaNi...</td>\n",
              "    </tr>\n",
              "    <tr>\n",
              "      <th>3</th>\n",
              "      <td>0.750000</td>\n",
              "      <td>Congratulations to Team DRDO and Team Brahmos ...</td>\n",
              "    </tr>\n",
              "    <tr>\n",
              "      <th>6</th>\n",
              "      <td>0.750000</td>\n",
              "      <td>India successfully tests extended range BrahMo...</td>\n",
              "    </tr>\n",
              "    <tr>\n",
              "      <th>7</th>\n",
              "      <td>0.625000</td>\n",
              "      <td>Fingers CrossedIf this get successful INDIA wi...</td>\n",
              "    </tr>\n",
              "    <tr>\n",
              "      <th>8</th>\n",
              "      <td>-0.031818</td>\n",
              "      <td>IndiaChinaStandoff Indiaindianmedia IndiaChina...</td>\n",
              "    </tr>\n",
              "  </tbody>\n",
              "</table>\n",
              "</div>"
            ],
            "text/plain": [
              "   polarity                                              tweet\n",
              "1  0.375000  Big boost to PM Narendra Modis idea of AatmaNi...\n",
              "3  0.750000  Congratulations to Team DRDO and Team Brahmos ...\n",
              "6  0.750000  India successfully tests extended range BrahMo...\n",
              "7  0.625000  Fingers CrossedIf this get successful INDIA wi...\n",
              "8 -0.031818  IndiaChinaStandoff Indiaindianmedia IndiaChina..."
            ]
          },
          "metadata": {
            "tags": []
          },
          "execution_count": 24
        }
      ]
    },
    {
      "cell_type": "code",
      "metadata": {
        "id": "Ji5gcGi1KbxD",
        "outputId": "b98bdaab-a2f9-4ab6-a7c7-057b22dd8e82",
        "colab": {
          "base_uri": "https://localhost:8080/",
          "height": 405
        }
      },
      "source": [
        "fig, ax = plt.subplots(figsize=(8, 6))\n",
        "\n",
        "DRDO_sent_df.hist(bins=[-1, -0.75, -0.5, -0.25, 0, 0.25, 0.5, 0.75, 1],\n",
        "        ax=ax, color=\"Black\")\n",
        "\n",
        "plt.title(\"Sentiments from Tweets on DRDO BrahMos\")\n",
        "plt.show()"
      ],
      "execution_count": 26,
      "outputs": [
        {
          "output_type": "display_data",
          "data": {
            "image/png": "[encoded data removed]",
            "text/plain": [
              "<Figure size 576x432 with 1 Axes>"
            ]
          },
          "metadata": {
            "tags": []
          }
        }
      ]
    }
  ]
}